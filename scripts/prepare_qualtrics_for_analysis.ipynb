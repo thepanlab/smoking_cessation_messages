{
 "cells": [
  {
   "attachments": {},
   "cell_type": "markdown",
   "metadata": {},
   "source": [
    "This jupyter notebook prepares the surveys results to be analyzed for GLMM and LIWC of the generated messages"
   ]
  },
  {
   "cell_type": "code",
   "execution_count": 1,
   "metadata": {},
   "outputs": [],
   "source": [
    "import pandas as pd"
   ]
  },
  {
   "cell_type": "code",
   "execution_count": 2,
   "metadata": {},
   "outputs": [
    {
     "data": {
      "text/html": [
       "<div>\n",
       "<style scoped>\n",
       "    .dataframe tbody tr th:only-of-type {\n",
       "        vertical-align: middle;\n",
       "    }\n",
       "\n",
       "    .dataframe tbody tr th {\n",
       "        vertical-align: top;\n",
       "    }\n",
       "\n",
       "    .dataframe thead th {\n",
       "        text-align: right;\n",
       "    }\n",
       "</style>\n",
       "<table border=\"1\" class=\"dataframe\">\n",
       "  <thead>\n",
       "    <tr style=\"text-align: right;\">\n",
       "      <th></th>\n",
       "      <th>question</th>\n",
       "      <th>style</th>\n",
       "      <th>accuracy</th>\n",
       "      <th>credibility</th>\n",
       "      <th>persuasion</th>\n",
       "      <th>revision_option</th>\n",
       "      <th>revision</th>\n",
       "      <th>timing_First Click</th>\n",
       "      <th>timing_Last Click</th>\n",
       "      <th>timing_Page Submit</th>\n",
       "      <th>timing_Click Count</th>\n",
       "    </tr>\n",
       "  </thead>\n",
       "  <tbody>\n",
       "    <tr>\n",
       "      <th>0</th>\n",
       "      <td>1</td>\n",
       "      <td>3</td>\n",
       "      <td>5</td>\n",
       "      <td>2</td>\n",
       "      <td>2</td>\n",
       "      <td>Yes, it needs further revision. Please revise ...</td>\n",
       "      <td>If you feel the urge to smoke, remind yourself...</td>\n",
       "      <td>6.741</td>\n",
       "      <td>9.117</td>\n",
       "      <td>56.103</td>\n",
       "      <td>2</td>\n",
       "    </tr>\n",
       "    <tr>\n",
       "      <th>1</th>\n",
       "      <td>2</td>\n",
       "      <td>4</td>\n",
       "      <td>5</td>\n",
       "      <td>3</td>\n",
       "      <td>2</td>\n",
       "      <td>Yes, it needs further revision. Please revise ...</td>\n",
       "      <td>Your mind is powerful and adaptable! Old habit...</td>\n",
       "      <td>3.335</td>\n",
       "      <td>5.855</td>\n",
       "      <td>48.074</td>\n",
       "      <td>2</td>\n",
       "    </tr>\n",
       "    <tr>\n",
       "      <th>2</th>\n",
       "      <td>3</td>\n",
       "      <td>6</td>\n",
       "      <td>6</td>\n",
       "      <td>6</td>\n",
       "      <td>4</td>\n",
       "      <td>No need to revise, it meets TTS standards already</td>\n",
       "      <td>NaN</td>\n",
       "      <td>4.448</td>\n",
       "      <td>4.448</td>\n",
       "      <td>5.733</td>\n",
       "      <td>1</td>\n",
       "    </tr>\n",
       "    <tr>\n",
       "      <th>3</th>\n",
       "      <td>4</td>\n",
       "      <td>5</td>\n",
       "      <td>4</td>\n",
       "      <td>3</td>\n",
       "      <td>3</td>\n",
       "      <td>No need to revise, it meets TTS standards already</td>\n",
       "      <td>NaN</td>\n",
       "      <td>8.125</td>\n",
       "      <td>8.125</td>\n",
       "      <td>9.177</td>\n",
       "      <td>1</td>\n",
       "    </tr>\n",
       "    <tr>\n",
       "      <th>4</th>\n",
       "      <td>5</td>\n",
       "      <td>6</td>\n",
       "      <td>6</td>\n",
       "      <td>5</td>\n",
       "      <td>4</td>\n",
       "      <td>Yes, it needs further revision. Please revise ...</td>\n",
       "      <td>Keep in mind that while you are quitting smoki...</td>\n",
       "      <td>4.818</td>\n",
       "      <td>37.450</td>\n",
       "      <td>38.300</td>\n",
       "      <td>8</td>\n",
       "    </tr>\n",
       "  </tbody>\n",
       "</table>\n",
       "</div>"
      ],
      "text/plain": [
       "   question style accuracy credibility persuasion  \\\n",
       "0         1     3        5           2          2   \n",
       "1         2     4        5           3          2   \n",
       "2         3     6        6           6          4   \n",
       "3         4     5        4           3          3   \n",
       "4         5     6        6           5          4   \n",
       "\n",
       "                                     revision_option  \\\n",
       "0  Yes, it needs further revision. Please revise ...   \n",
       "1  Yes, it needs further revision. Please revise ...   \n",
       "2  No need to revise, it meets TTS standards already   \n",
       "3  No need to revise, it meets TTS standards already   \n",
       "4  Yes, it needs further revision. Please revise ...   \n",
       "\n",
       "                                            revision  timing_First Click  \\\n",
       "0  If you feel the urge to smoke, remind yourself...               6.741   \n",
       "1  Your mind is powerful and adaptable! Old habit...               3.335   \n",
       "2                                                NaN               4.448   \n",
       "3                                                NaN               8.125   \n",
       "4  Keep in mind that while you are quitting smoki...               4.818   \n",
       "\n",
       "   timing_Last Click  timing_Page Submit  timing_Click Count  \n",
       "0              9.117              56.103                   2  \n",
       "1              5.855              48.074                   2  \n",
       "2              4.448               5.733                   1  \n",
       "3              8.125               9.177                   1  \n",
       "4             37.450              38.300                   8  "
      ]
     },
     "execution_count": 2,
     "metadata": {},
     "output_type": "execute_result"
    }
   ],
   "source": [
    "df_q1_results = pd.read_csv(\"/home/pcallec/smoking_cessation_messages/results/reformat_results_qualtrics/q1_results.csv\", index_col=0 )\n",
    "df_q1_results.head()"
   ]
  },
  {
   "cell_type": "code",
   "execution_count": 3,
   "metadata": {},
   "outputs": [
    {
     "data": {
      "text/plain": [
       "(50, 11)"
      ]
     },
     "execution_count": 3,
     "metadata": {},
     "output_type": "execute_result"
    }
   ],
   "source": [
    "df_q1_results.shape"
   ]
  },
  {
   "cell_type": "code",
   "execution_count": 4,
   "metadata": {},
   "outputs": [
    {
     "data": {
      "text/html": [
       "<div>\n",
       "<style scoped>\n",
       "    .dataframe tbody tr th:only-of-type {\n",
       "        vertical-align: middle;\n",
       "    }\n",
       "\n",
       "    .dataframe tbody tr th {\n",
       "        vertical-align: top;\n",
       "    }\n",
       "\n",
       "    .dataframe thead th {\n",
       "        text-align: right;\n",
       "    }\n",
       "</style>\n",
       "<table border=\"1\" class=\"dataframe\">\n",
       "  <thead>\n",
       "    <tr style=\"text-align: right;\">\n",
       "      <th></th>\n",
       "      <th>Message</th>\n",
       "      <th>model</th>\n",
       "    </tr>\n",
       "  </thead>\n",
       "  <tbody>\n",
       "    <tr>\n",
       "      <th>0</th>\n",
       "      <td>It is important to recognize the benefits that...</td>\n",
       "      <td>opt-30b</td>\n",
       "    </tr>\n",
       "    <tr>\n",
       "      <th>1</th>\n",
       "      <td>You have the power to live your life without c...</td>\n",
       "      <td>gpt-j-6B</td>\n",
       "    </tr>\n",
       "    <tr>\n",
       "      <th>2</th>\n",
       "      <td>Even if you have other health problems, such a...</td>\n",
       "      <td>original</td>\n",
       "    </tr>\n",
       "    <tr>\n",
       "      <th>3</th>\n",
       "      <td>Setting small achievable goals can help boost ...</td>\n",
       "      <td>ChatGPT</td>\n",
       "    </tr>\n",
       "    <tr>\n",
       "      <th>4</th>\n",
       "      <td>Think about the time you spent on smoking and ...</td>\n",
       "      <td>gpt-j-6B</td>\n",
       "    </tr>\n",
       "  </tbody>\n",
       "</table>\n",
       "</div>"
      ],
      "text/plain": [
       "                                             Message     model\n",
       "0  It is important to recognize the benefits that...   opt-30b\n",
       "1  You have the power to live your life without c...  gpt-j-6B\n",
       "2  Even if you have other health problems, such a...  original\n",
       "3  Setting small achievable goals can help boost ...   ChatGPT\n",
       "4  Think about the time you spent on smoking and ...  gpt-j-6B"
      ]
     },
     "execution_count": 4,
     "metadata": {},
     "output_type": "execute_result"
    }
   ],
   "source": [
    "df_q1_model_message = pd.read_csv( \"/home/pcallec/smoking_cessation_messages/results/Qualtrics/messages_for_questionnaires/messages_for_questionnaire_1.csv\",\n",
    "                                  index_col=0 )\n",
    "df_q1_model_message.head()"
   ]
  },
  {
   "cell_type": "code",
   "execution_count": 5,
   "metadata": {},
   "outputs": [
    {
     "data": {
      "text/plain": [
       "(50, 2)"
      ]
     },
     "execution_count": 5,
     "metadata": {},
     "output_type": "execute_result"
    }
   ],
   "source": [
    "df_q1_model_message.shape"
   ]
  },
  {
   "cell_type": "code",
   "execution_count": 6,
   "metadata": {},
   "outputs": [],
   "source": [
    "df_merged = pd.concat([df_q1_model_message, df_q1_results], axis=1)\n",
    "df_merged.insert(0, 'Questionnaire', 1)"
   ]
  },
  {
   "cell_type": "code",
   "execution_count": 7,
   "metadata": {},
   "outputs": [
    {
     "data": {
      "text/html": [
       "<div>\n",
       "<style scoped>\n",
       "    .dataframe tbody tr th:only-of-type {\n",
       "        vertical-align: middle;\n",
       "    }\n",
       "\n",
       "    .dataframe tbody tr th {\n",
       "        vertical-align: top;\n",
       "    }\n",
       "\n",
       "    .dataframe thead th {\n",
       "        text-align: right;\n",
       "    }\n",
       "</style>\n",
       "<table border=\"1\" class=\"dataframe\">\n",
       "  <thead>\n",
       "    <tr style=\"text-align: right;\">\n",
       "      <th></th>\n",
       "      <th>Questionnaire</th>\n",
       "      <th>Message</th>\n",
       "      <th>model</th>\n",
       "      <th>question</th>\n",
       "      <th>style</th>\n",
       "      <th>accuracy</th>\n",
       "      <th>credibility</th>\n",
       "      <th>persuasion</th>\n",
       "      <th>revision_option</th>\n",
       "      <th>revision</th>\n",
       "      <th>timing_First Click</th>\n",
       "      <th>timing_Last Click</th>\n",
       "      <th>timing_Page Submit</th>\n",
       "      <th>timing_Click Count</th>\n",
       "    </tr>\n",
       "  </thead>\n",
       "  <tbody>\n",
       "    <tr>\n",
       "      <th>0</th>\n",
       "      <td>1</td>\n",
       "      <td>It is important to recognize the benefits that...</td>\n",
       "      <td>opt-30b</td>\n",
       "      <td>1</td>\n",
       "      <td>3</td>\n",
       "      <td>5</td>\n",
       "      <td>2</td>\n",
       "      <td>2</td>\n",
       "      <td>Yes, it needs further revision. Please revise ...</td>\n",
       "      <td>If you feel the urge to smoke, remind yourself...</td>\n",
       "      <td>6.741</td>\n",
       "      <td>9.117</td>\n",
       "      <td>56.103</td>\n",
       "      <td>2</td>\n",
       "    </tr>\n",
       "    <tr>\n",
       "      <th>1</th>\n",
       "      <td>1</td>\n",
       "      <td>You have the power to live your life without c...</td>\n",
       "      <td>gpt-j-6B</td>\n",
       "      <td>2</td>\n",
       "      <td>4</td>\n",
       "      <td>5</td>\n",
       "      <td>3</td>\n",
       "      <td>2</td>\n",
       "      <td>Yes, it needs further revision. Please revise ...</td>\n",
       "      <td>Your mind is powerful and adaptable! Old habit...</td>\n",
       "      <td>3.335</td>\n",
       "      <td>5.855</td>\n",
       "      <td>48.074</td>\n",
       "      <td>2</td>\n",
       "    </tr>\n",
       "    <tr>\n",
       "      <th>2</th>\n",
       "      <td>1</td>\n",
       "      <td>Even if you have other health problems, such a...</td>\n",
       "      <td>original</td>\n",
       "      <td>3</td>\n",
       "      <td>6</td>\n",
       "      <td>6</td>\n",
       "      <td>6</td>\n",
       "      <td>4</td>\n",
       "      <td>No need to revise, it meets TTS standards already</td>\n",
       "      <td>NaN</td>\n",
       "      <td>4.448</td>\n",
       "      <td>4.448</td>\n",
       "      <td>5.733</td>\n",
       "      <td>1</td>\n",
       "    </tr>\n",
       "    <tr>\n",
       "      <th>3</th>\n",
       "      <td>1</td>\n",
       "      <td>Setting small achievable goals can help boost ...</td>\n",
       "      <td>ChatGPT</td>\n",
       "      <td>4</td>\n",
       "      <td>5</td>\n",
       "      <td>4</td>\n",
       "      <td>3</td>\n",
       "      <td>3</td>\n",
       "      <td>No need to revise, it meets TTS standards already</td>\n",
       "      <td>NaN</td>\n",
       "      <td>8.125</td>\n",
       "      <td>8.125</td>\n",
       "      <td>9.177</td>\n",
       "      <td>1</td>\n",
       "    </tr>\n",
       "    <tr>\n",
       "      <th>4</th>\n",
       "      <td>1</td>\n",
       "      <td>Think about the time you spent on smoking and ...</td>\n",
       "      <td>gpt-j-6B</td>\n",
       "      <td>5</td>\n",
       "      <td>6</td>\n",
       "      <td>6</td>\n",
       "      <td>5</td>\n",
       "      <td>4</td>\n",
       "      <td>Yes, it needs further revision. Please revise ...</td>\n",
       "      <td>Keep in mind that while you are quitting smoki...</td>\n",
       "      <td>4.818</td>\n",
       "      <td>37.450</td>\n",
       "      <td>38.300</td>\n",
       "      <td>8</td>\n",
       "    </tr>\n",
       "  </tbody>\n",
       "</table>\n",
       "</div>"
      ],
      "text/plain": [
       "   Questionnaire                                            Message     model  \\\n",
       "0              1  It is important to recognize the benefits that...   opt-30b   \n",
       "1              1  You have the power to live your life without c...  gpt-j-6B   \n",
       "2              1  Even if you have other health problems, such a...  original   \n",
       "3              1  Setting small achievable goals can help boost ...   ChatGPT   \n",
       "4              1  Think about the time you spent on smoking and ...  gpt-j-6B   \n",
       "\n",
       "   question style accuracy credibility persuasion  \\\n",
       "0         1     3        5           2          2   \n",
       "1         2     4        5           3          2   \n",
       "2         3     6        6           6          4   \n",
       "3         4     5        4           3          3   \n",
       "4         5     6        6           5          4   \n",
       "\n",
       "                                     revision_option  \\\n",
       "0  Yes, it needs further revision. Please revise ...   \n",
       "1  Yes, it needs further revision. Please revise ...   \n",
       "2  No need to revise, it meets TTS standards already   \n",
       "3  No need to revise, it meets TTS standards already   \n",
       "4  Yes, it needs further revision. Please revise ...   \n",
       "\n",
       "                                            revision  timing_First Click  \\\n",
       "0  If you feel the urge to smoke, remind yourself...               6.741   \n",
       "1  Your mind is powerful and adaptable! Old habit...               3.335   \n",
       "2                                                NaN               4.448   \n",
       "3                                                NaN               8.125   \n",
       "4  Keep in mind that while you are quitting smoki...               4.818   \n",
       "\n",
       "   timing_Last Click  timing_Page Submit  timing_Click Count  \n",
       "0              9.117              56.103                   2  \n",
       "1              5.855              48.074                   2  \n",
       "2              4.448               5.733                   1  \n",
       "3              8.125               9.177                   1  \n",
       "4             37.450              38.300                   8  "
      ]
     },
     "execution_count": 7,
     "metadata": {},
     "output_type": "execute_result"
    }
   ],
   "source": [
    "df_merged.head()"
   ]
  },
  {
   "attachments": {},
   "cell_type": "markdown",
   "metadata": {},
   "source": [
    "# Auto"
   ]
  },
  {
   "cell_type": "code",
   "execution_count": 8,
   "metadata": {},
   "outputs": [],
   "source": [
    "l_path_results_reformat = [\"/home/pcallec/smoking_cessation_messages/results/reformat_results_qualtrics/q1_results.csv\",\n",
    "                           \"/home/pcallec/smoking_cessation_messages/results/reformat_results_qualtrics/q2_results.csv\",\n",
    "                           \"/home/pcallec/smoking_cessation_messages/results/reformat_results_qualtrics/q3_results.csv\",\n",
    "                           \"/home/pcallec/smoking_cessation_messages/results/reformat_results_qualtrics/q4_results.csv\",\n",
    "                           \"/home/pcallec/smoking_cessation_messages/results/reformat_results_qualtrics/q5_results.csv\",\n",
    "                           \"/home/pcallec/smoking_cessation_messages/results/reformat_results_qualtrics/q6_results.csv\",\n",
    "                           \"/home/pcallec/smoking_cessation_messages/results/reformat_results_qualtrics/q7_results.csv\",\n",
    "                           \"/home/pcallec/smoking_cessation_messages/results/reformat_results_qualtrics/q8_results.csv\",\n",
    "                           \"/home/pcallec/smoking_cessation_messages/results/reformat_results_qualtrics/q9_results.csv\",\n",
    "                           \"/home/pcallec/smoking_cessation_messages/results/reformat_results_qualtrics/q10_results.csv\",\n",
    "                           \"/home/pcallec/smoking_cessation_messages/results/reformat_results_qualtrics/q11_results.csv\",\n",
    "                           \"/home/pcallec/smoking_cessation_messages/results/reformat_results_qualtrics/q12_results.csv\",\n",
    "                           \"/home/pcallec/smoking_cessation_messages/results/reformat_results_qualtrics/q13_results.csv\",\n",
    "                           \"/home/pcallec/smoking_cessation_messages/results/reformat_results_qualtrics/q14_results.csv\"]\n",
    "\n",
    "l_path_model_message = [\"/home/pcallec/smoking_cessation_messages/results/Qualtrics/messages_for_questionnaires/messages_for_questionnaire_1.csv\",\n",
    "                        \"/home/pcallec/smoking_cessation_messages/results/Qualtrics/messages_for_questionnaires/messages_for_questionnaire_2.csv\",\n",
    "                        \"/home/pcallec/smoking_cessation_messages/results/Qualtrics/messages_for_questionnaires/messages_for_questionnaire_3.csv\",\n",
    "                        \"/home/pcallec/smoking_cessation_messages/results/Qualtrics/messages_for_questionnaires/messages_for_questionnaire_4.csv\",\n",
    "                        \"/home/pcallec/smoking_cessation_messages/results/Qualtrics/messages_for_questionnaires/messages_for_questionnaire_5.csv\",\n",
    "                        \"/home/pcallec/smoking_cessation_messages/results/Qualtrics/messages_for_questionnaires/messages_for_questionnaire_6.csv\",\n",
    "                        \"/home/pcallec/smoking_cessation_messages/results/Qualtrics/messages_for_questionnaires/messages_for_questionnaire_7.csv\",\n",
    "                        \"/home/pcallec/smoking_cessation_messages/results/Qualtrics/messages_for_questionnaires/messages_for_questionnaire_8.csv\",\n",
    "                        \"/home/pcallec/smoking_cessation_messages/results/Qualtrics/messages_for_questionnaires/messages_for_questionnaire_9.csv\",\n",
    "                        \"/home/pcallec/smoking_cessation_messages/results/Qualtrics/messages_for_questionnaires/messages_for_questionnaire_10.csv\",\n",
    "                        \"/home/pcallec/smoking_cessation_messages/results/Qualtrics/messages_for_questionnaires/messages_for_questionnaire_11.csv\",\n",
    "                        \"/home/pcallec/smoking_cessation_messages/results/Qualtrics/messages_for_questionnaires/messages_for_questionnaire_12.csv\",\n",
    "                        \"/home/pcallec/smoking_cessation_messages/results/Qualtrics/messages_for_questionnaires/messages_for_questionnaire_13.csv\",\n",
    "                        \"/home/pcallec/smoking_cessation_messages/results/Qualtrics/messages_for_questionnaires/messages_for_questionnaire_14.csv\"]\n",
    "\n",
    "df_q_new = pd.DataFrame()\n",
    "\n",
    "for i in range(len(l_path_results_reformat)):\n",
    "\n",
    "    df_q_results = pd.read_csv(l_path_results_reformat[i], index_col=0 )\n",
    "    # df_q1_results.head()\n",
    "    \n",
    "    df_q_model_message = pd.read_csv(l_path_model_message[i], index_col=0 )\n",
    "    \n",
    "    df_merged = pd.concat([df_q_model_message, df_q_results], axis=1)\n",
    "    df_merged.insert(0, 'Questionnaire', i+1)\n",
    "    \n",
    "    df_q_new = pd.concat([df_q_new, df_merged])\n",
    "        \n",
    "df_q_new = df_q_new.reset_index(drop=True)"
   ]
  },
  {
   "cell_type": "code",
   "execution_count": 9,
   "metadata": {},
   "outputs": [
    {
     "data": {
      "text/html": [
       "<div>\n",
       "<style scoped>\n",
       "    .dataframe tbody tr th:only-of-type {\n",
       "        vertical-align: middle;\n",
       "    }\n",
       "\n",
       "    .dataframe tbody tr th {\n",
       "        vertical-align: top;\n",
       "    }\n",
       "\n",
       "    .dataframe thead th {\n",
       "        text-align: right;\n",
       "    }\n",
       "</style>\n",
       "<table border=\"1\" class=\"dataframe\">\n",
       "  <thead>\n",
       "    <tr style=\"text-align: right;\">\n",
       "      <th></th>\n",
       "      <th>Questionnaire</th>\n",
       "      <th>Message</th>\n",
       "      <th>model</th>\n",
       "      <th>question</th>\n",
       "      <th>style</th>\n",
       "      <th>accuracy</th>\n",
       "      <th>credibility</th>\n",
       "      <th>persuasion</th>\n",
       "      <th>revision_option</th>\n",
       "      <th>revision</th>\n",
       "      <th>timing_First Click</th>\n",
       "      <th>timing_Last Click</th>\n",
       "      <th>timing_Page Submit</th>\n",
       "      <th>timing_Click Count</th>\n",
       "    </tr>\n",
       "  </thead>\n",
       "  <tbody>\n",
       "    <tr>\n",
       "      <th>0</th>\n",
       "      <td>1</td>\n",
       "      <td>It is important to recognize the benefits that...</td>\n",
       "      <td>opt-30b</td>\n",
       "      <td>1</td>\n",
       "      <td>3</td>\n",
       "      <td>5</td>\n",
       "      <td>2</td>\n",
       "      <td>2</td>\n",
       "      <td>Yes, it needs further revision. Please revise ...</td>\n",
       "      <td>If you feel the urge to smoke, remind yourself...</td>\n",
       "      <td>6.741</td>\n",
       "      <td>9.117</td>\n",
       "      <td>56.103</td>\n",
       "      <td>2</td>\n",
       "    </tr>\n",
       "    <tr>\n",
       "      <th>1</th>\n",
       "      <td>1</td>\n",
       "      <td>You have the power to live your life without c...</td>\n",
       "      <td>gpt-j-6B</td>\n",
       "      <td>2</td>\n",
       "      <td>4</td>\n",
       "      <td>5</td>\n",
       "      <td>3</td>\n",
       "      <td>2</td>\n",
       "      <td>Yes, it needs further revision. Please revise ...</td>\n",
       "      <td>Your mind is powerful and adaptable! Old habit...</td>\n",
       "      <td>3.335</td>\n",
       "      <td>5.855</td>\n",
       "      <td>48.074</td>\n",
       "      <td>2</td>\n",
       "    </tr>\n",
       "    <tr>\n",
       "      <th>2</th>\n",
       "      <td>1</td>\n",
       "      <td>Even if you have other health problems, such a...</td>\n",
       "      <td>original</td>\n",
       "      <td>3</td>\n",
       "      <td>6</td>\n",
       "      <td>6</td>\n",
       "      <td>6</td>\n",
       "      <td>4</td>\n",
       "      <td>No need to revise, it meets TTS standards already</td>\n",
       "      <td>NaN</td>\n",
       "      <td>4.448</td>\n",
       "      <td>4.448</td>\n",
       "      <td>5.733</td>\n",
       "      <td>1</td>\n",
       "    </tr>\n",
       "    <tr>\n",
       "      <th>3</th>\n",
       "      <td>1</td>\n",
       "      <td>Setting small achievable goals can help boost ...</td>\n",
       "      <td>ChatGPT</td>\n",
       "      <td>4</td>\n",
       "      <td>5</td>\n",
       "      <td>4</td>\n",
       "      <td>3</td>\n",
       "      <td>3</td>\n",
       "      <td>No need to revise, it meets TTS standards already</td>\n",
       "      <td>NaN</td>\n",
       "      <td>8.125</td>\n",
       "      <td>8.125</td>\n",
       "      <td>9.177</td>\n",
       "      <td>1</td>\n",
       "    </tr>\n",
       "    <tr>\n",
       "      <th>4</th>\n",
       "      <td>1</td>\n",
       "      <td>Think about the time you spent on smoking and ...</td>\n",
       "      <td>gpt-j-6B</td>\n",
       "      <td>5</td>\n",
       "      <td>6</td>\n",
       "      <td>6</td>\n",
       "      <td>5</td>\n",
       "      <td>4</td>\n",
       "      <td>Yes, it needs further revision. Please revise ...</td>\n",
       "      <td>Keep in mind that while you are quitting smoki...</td>\n",
       "      <td>4.818</td>\n",
       "      <td>37.450</td>\n",
       "      <td>38.300</td>\n",
       "      <td>8</td>\n",
       "    </tr>\n",
       "  </tbody>\n",
       "</table>\n",
       "</div>"
      ],
      "text/plain": [
       "   Questionnaire                                            Message     model  \\\n",
       "0              1  It is important to recognize the benefits that...   opt-30b   \n",
       "1              1  You have the power to live your life without c...  gpt-j-6B   \n",
       "2              1  Even if you have other health problems, such a...  original   \n",
       "3              1  Setting small achievable goals can help boost ...   ChatGPT   \n",
       "4              1  Think about the time you spent on smoking and ...  gpt-j-6B   \n",
       "\n",
       "   question style accuracy credibility persuasion  \\\n",
       "0         1     3        5           2          2   \n",
       "1         2     4        5           3          2   \n",
       "2         3     6        6           6          4   \n",
       "3         4     5        4           3          3   \n",
       "4         5     6        6           5          4   \n",
       "\n",
       "                                     revision_option  \\\n",
       "0  Yes, it needs further revision. Please revise ...   \n",
       "1  Yes, it needs further revision. Please revise ...   \n",
       "2  No need to revise, it meets TTS standards already   \n",
       "3  No need to revise, it meets TTS standards already   \n",
       "4  Yes, it needs further revision. Please revise ...   \n",
       "\n",
       "                                            revision  timing_First Click  \\\n",
       "0  If you feel the urge to smoke, remind yourself...               6.741   \n",
       "1  Your mind is powerful and adaptable! Old habit...               3.335   \n",
       "2                                                NaN               4.448   \n",
       "3                                                NaN               8.125   \n",
       "4  Keep in mind that while you are quitting smoki...               4.818   \n",
       "\n",
       "   timing_Last Click  timing_Page Submit  timing_Click Count  \n",
       "0              9.117              56.103                   2  \n",
       "1              5.855              48.074                   2  \n",
       "2              4.448               5.733                   1  \n",
       "3              8.125               9.177                   1  \n",
       "4             37.450              38.300                   8  "
      ]
     },
     "execution_count": 9,
     "metadata": {},
     "output_type": "execute_result"
    }
   ],
   "source": [
    "df_q_new.head()"
   ]
  },
  {
   "cell_type": "code",
   "execution_count": 10,
   "metadata": {},
   "outputs": [
    {
     "data": {
      "text/plain": [
       "Questionnaire           int64\n",
       "Message                object\n",
       "model                  object\n",
       "question                int64\n",
       "style                  object\n",
       "accuracy               object\n",
       "credibility            object\n",
       "persuasion             object\n",
       "revision_option        object\n",
       "revision               object\n",
       "timing_First Click    float64\n",
       "timing_Last Click     float64\n",
       "timing_Page Submit    float64\n",
       "timing_Click Count      int64\n",
       "dtype: object"
      ]
     },
     "execution_count": 10,
     "metadata": {},
     "output_type": "execute_result"
    }
   ],
   "source": [
    "df_q_new.dtypes"
   ]
  },
  {
   "cell_type": "code",
   "execution_count": 11,
   "metadata": {},
   "outputs": [],
   "source": [
    "dict_replace = {\"1-Poorly Written\": \"1\",\n",
    "                \"10-Very Well-Written\": \"10\",\n",
    "                \"1-Not at all\": \"1\",\n",
    "                \"10-Very Much\": \"10\"}\n",
    "\n",
    "df_q_new = df_q_new.replace(dict_replace)"
   ]
  },
  {
   "cell_type": "code",
   "execution_count": 12,
   "metadata": {},
   "outputs": [],
   "source": [
    "df_q_new['style'] = df_q_new['style'].astype('int32')\n",
    "df_q_new['accuracy'] = df_q_new['accuracy'].astype('int32')\n",
    "df_q_new['credibility'] = df_q_new['credibility'].astype('int32')\n",
    "df_q_new['persuasion'] = df_q_new['persuasion'].astype('int32')"
   ]
  },
  {
   "cell_type": "code",
   "execution_count": 13,
   "metadata": {},
   "outputs": [
    {
     "data": {
      "text/html": [
       "<div>\n",
       "<style scoped>\n",
       "    .dataframe tbody tr th:only-of-type {\n",
       "        vertical-align: middle;\n",
       "    }\n",
       "\n",
       "    .dataframe tbody tr th {\n",
       "        vertical-align: top;\n",
       "    }\n",
       "\n",
       "    .dataframe thead th {\n",
       "        text-align: right;\n",
       "    }\n",
       "</style>\n",
       "<table border=\"1\" class=\"dataframe\">\n",
       "  <thead>\n",
       "    <tr style=\"text-align: right;\">\n",
       "      <th></th>\n",
       "      <th>Questionnaire</th>\n",
       "      <th>Message</th>\n",
       "      <th>model</th>\n",
       "      <th>question</th>\n",
       "      <th>style</th>\n",
       "      <th>accuracy</th>\n",
       "      <th>credibility</th>\n",
       "      <th>persuasion</th>\n",
       "      <th>revision_option</th>\n",
       "      <th>revision</th>\n",
       "      <th>timing_First Click</th>\n",
       "      <th>timing_Last Click</th>\n",
       "      <th>timing_Page Submit</th>\n",
       "      <th>timing_Click Count</th>\n",
       "    </tr>\n",
       "  </thead>\n",
       "  <tbody>\n",
       "    <tr>\n",
       "      <th>0</th>\n",
       "      <td>1</td>\n",
       "      <td>It is important to recognize the benefits that...</td>\n",
       "      <td>opt-30b</td>\n",
       "      <td>1</td>\n",
       "      <td>3</td>\n",
       "      <td>5</td>\n",
       "      <td>2</td>\n",
       "      <td>2</td>\n",
       "      <td>Yes, it needs further revision. Please revise ...</td>\n",
       "      <td>If you feel the urge to smoke, remind yourself...</td>\n",
       "      <td>6.741</td>\n",
       "      <td>9.117</td>\n",
       "      <td>56.103</td>\n",
       "      <td>2</td>\n",
       "    </tr>\n",
       "    <tr>\n",
       "      <th>1</th>\n",
       "      <td>1</td>\n",
       "      <td>You have the power to live your life without c...</td>\n",
       "      <td>gpt-j-6B</td>\n",
       "      <td>2</td>\n",
       "      <td>4</td>\n",
       "      <td>5</td>\n",
       "      <td>3</td>\n",
       "      <td>2</td>\n",
       "      <td>Yes, it needs further revision. Please revise ...</td>\n",
       "      <td>Your mind is powerful and adaptable! Old habit...</td>\n",
       "      <td>3.335</td>\n",
       "      <td>5.855</td>\n",
       "      <td>48.074</td>\n",
       "      <td>2</td>\n",
       "    </tr>\n",
       "    <tr>\n",
       "      <th>2</th>\n",
       "      <td>1</td>\n",
       "      <td>Even if you have other health problems, such a...</td>\n",
       "      <td>original</td>\n",
       "      <td>3</td>\n",
       "      <td>6</td>\n",
       "      <td>6</td>\n",
       "      <td>6</td>\n",
       "      <td>4</td>\n",
       "      <td>No need to revise, it meets TTS standards already</td>\n",
       "      <td>NaN</td>\n",
       "      <td>4.448</td>\n",
       "      <td>4.448</td>\n",
       "      <td>5.733</td>\n",
       "      <td>1</td>\n",
       "    </tr>\n",
       "    <tr>\n",
       "      <th>3</th>\n",
       "      <td>1</td>\n",
       "      <td>Setting small achievable goals can help boost ...</td>\n",
       "      <td>ChatGPT</td>\n",
       "      <td>4</td>\n",
       "      <td>5</td>\n",
       "      <td>4</td>\n",
       "      <td>3</td>\n",
       "      <td>3</td>\n",
       "      <td>No need to revise, it meets TTS standards already</td>\n",
       "      <td>NaN</td>\n",
       "      <td>8.125</td>\n",
       "      <td>8.125</td>\n",
       "      <td>9.177</td>\n",
       "      <td>1</td>\n",
       "    </tr>\n",
       "    <tr>\n",
       "      <th>4</th>\n",
       "      <td>1</td>\n",
       "      <td>Think about the time you spent on smoking and ...</td>\n",
       "      <td>gpt-j-6B</td>\n",
       "      <td>5</td>\n",
       "      <td>6</td>\n",
       "      <td>6</td>\n",
       "      <td>5</td>\n",
       "      <td>4</td>\n",
       "      <td>Yes, it needs further revision. Please revise ...</td>\n",
       "      <td>Keep in mind that while you are quitting smoki...</td>\n",
       "      <td>4.818</td>\n",
       "      <td>37.450</td>\n",
       "      <td>38.300</td>\n",
       "      <td>8</td>\n",
       "    </tr>\n",
       "  </tbody>\n",
       "</table>\n",
       "</div>"
      ],
      "text/plain": [
       "   Questionnaire                                            Message     model  \\\n",
       "0              1  It is important to recognize the benefits that...   opt-30b   \n",
       "1              1  You have the power to live your life without c...  gpt-j-6B   \n",
       "2              1  Even if you have other health problems, such a...  original   \n",
       "3              1  Setting small achievable goals can help boost ...   ChatGPT   \n",
       "4              1  Think about the time you spent on smoking and ...  gpt-j-6B   \n",
       "\n",
       "   question  style  accuracy  credibility  persuasion  \\\n",
       "0         1      3         5            2           2   \n",
       "1         2      4         5            3           2   \n",
       "2         3      6         6            6           4   \n",
       "3         4      5         4            3           3   \n",
       "4         5      6         6            5           4   \n",
       "\n",
       "                                     revision_option  \\\n",
       "0  Yes, it needs further revision. Please revise ...   \n",
       "1  Yes, it needs further revision. Please revise ...   \n",
       "2  No need to revise, it meets TTS standards already   \n",
       "3  No need to revise, it meets TTS standards already   \n",
       "4  Yes, it needs further revision. Please revise ...   \n",
       "\n",
       "                                            revision  timing_First Click  \\\n",
       "0  If you feel the urge to smoke, remind yourself...               6.741   \n",
       "1  Your mind is powerful and adaptable! Old habit...               3.335   \n",
       "2                                                NaN               4.448   \n",
       "3                                                NaN               8.125   \n",
       "4  Keep in mind that while you are quitting smoki...               4.818   \n",
       "\n",
       "   timing_Last Click  timing_Page Submit  timing_Click Count  \n",
       "0              9.117              56.103                   2  \n",
       "1              5.855              48.074                   2  \n",
       "2              4.448               5.733                   1  \n",
       "3              8.125               9.177                   1  \n",
       "4             37.450              38.300                   8  "
      ]
     },
     "execution_count": 13,
     "metadata": {},
     "output_type": "execute_result"
    }
   ],
   "source": [
    "df_q_new.head()"
   ]
  },
  {
   "cell_type": "code",
   "execution_count": 14,
   "metadata": {},
   "outputs": [
    {
     "data": {
      "text/plain": [
       "Questionnaire           int64\n",
       "Message                object\n",
       "model                  object\n",
       "question                int64\n",
       "style                   int32\n",
       "accuracy                int32\n",
       "credibility             int32\n",
       "persuasion              int32\n",
       "revision_option        object\n",
       "revision               object\n",
       "timing_First Click    float64\n",
       "timing_Last Click     float64\n",
       "timing_Page Submit    float64\n",
       "timing_Click Count      int64\n",
       "dtype: object"
      ]
     },
     "execution_count": 14,
     "metadata": {},
     "output_type": "execute_result"
    }
   ],
   "source": [
    "df_q_new.dtypes"
   ]
  },
  {
   "cell_type": "code",
   "execution_count": 15,
   "metadata": {},
   "outputs": [
    {
     "data": {
      "text/plain": [
       "(700, 14)"
      ]
     },
     "execution_count": 15,
     "metadata": {},
     "output_type": "execute_result"
    }
   ],
   "source": [
    "df_q_new.shape"
   ]
  },
  {
   "cell_type": "code",
   "execution_count": 16,
   "metadata": {},
   "outputs": [
    {
     "data": {
      "text/plain": [
       "array([[<AxesSubplot: title={'center': 'ChatGPT'}>,\n",
       "        <AxesSubplot: title={'center': 'bloom-7b1'}>,\n",
       "        <AxesSubplot: title={'center': 'gpt-j-6B'}>],\n",
       "       [<AxesSubplot: title={'center': 'opt-13b'}>,\n",
       "        <AxesSubplot: title={'center': 'opt-30b'}>,\n",
       "        <AxesSubplot: title={'center': 'opt-6.7b'}>],\n",
       "       [<AxesSubplot: title={'center': 'original'}>, <AxesSubplot: >,\n",
       "        <AxesSubplot: >]], dtype=object)"
      ]
     },
     "execution_count": 16,
     "metadata": {},
     "output_type": "execute_result"
    },
    {
     "data": {
      "image/png": "[encoded data removed]",
      "text/plain": [
       "<Figure size 640x480 with 9 Axes>"
      ]
     },
     "metadata": {},
     "output_type": "display_data"
    }
   ],
   "source": [
    "df_q_new.hist(column = [\"style\",\"accuracy\",\"credibility\",\"persuasion\"], by=\"model\")"
   ]
  },
  {
   "cell_type": "code",
   "execution_count": 17,
   "metadata": {},
   "outputs": [
    {
     "data": {
      "text/plain": [
       "array([[<AxesSubplot: title={'center': 'ChatGPT'}>,\n",
       "        <AxesSubplot: title={'center': 'bloom-7b1'}>,\n",
       "        <AxesSubplot: title={'center': 'gpt-j-6B'}>],\n",
       "       [<AxesSubplot: title={'center': 'opt-13b'}>,\n",
       "        <AxesSubplot: title={'center': 'opt-30b'}>,\n",
       "        <AxesSubplot: title={'center': 'opt-6.7b'}>],\n",
       "       [<AxesSubplot: title={'center': 'original'}>, <AxesSubplot: >,\n",
       "        <AxesSubplot: >]], dtype=object)"
      ]
     },
     "execution_count": 17,
     "metadata": {},
     "output_type": "execute_result"
    },
    {
     "data": {
      "image/png": "[encoded data removed]",
      "text/plain": [
       "<Figure size 640x480 with 9 Axes>"
      ]
     },
     "metadata": {},
     "output_type": "display_data"
    }
   ],
   "source": [
    "df_q_new.hist(column = [\"style\"], by=\"model\")"
   ]
  },
  {
   "cell_type": "code",
   "execution_count": 18,
   "metadata": {},
   "outputs": [
    {
     "data": {
      "text/plain": [
       "array([[<AxesSubplot: title={'center': 'ChatGPT'}>,\n",
       "        <AxesSubplot: title={'center': 'bloom-7b1'}>,\n",
       "        <AxesSubplot: title={'center': 'gpt-j-6B'}>],\n",
       "       [<AxesSubplot: title={'center': 'opt-13b'}>,\n",
       "        <AxesSubplot: title={'center': 'opt-30b'}>,\n",
       "        <AxesSubplot: title={'center': 'opt-6.7b'}>],\n",
       "       [<AxesSubplot: title={'center': 'original'}>, <AxesSubplot: >,\n",
       "        <AxesSubplot: >]], dtype=object)"
      ]
     },
     "execution_count": 18,
     "metadata": {},
     "output_type": "execute_result"
    },
    {
     "data": {
      "image/png": "[encoded data removed]",
      "text/plain": [
       "<Figure size 640x480 with 9 Axes>"
      ]
     },
     "metadata": {},
     "output_type": "display_data"
    }
   ],
   "source": [
    "df_q_new.hist(column = [\"accuracy\"], by=\"model\")"
   ]
  },
  {
   "cell_type": "code",
   "execution_count": 19,
   "metadata": {},
   "outputs": [
    {
     "data": {
      "text/plain": [
       "array([[<AxesSubplot: title={'center': 'ChatGPT'}>,\n",
       "        <AxesSubplot: title={'center': 'bloom-7b1'}>,\n",
       "        <AxesSubplot: title={'center': 'gpt-j-6B'}>],\n",
       "       [<AxesSubplot: title={'center': 'opt-13b'}>,\n",
       "        <AxesSubplot: title={'center': 'opt-30b'}>,\n",
       "        <AxesSubplot: title={'center': 'opt-6.7b'}>],\n",
       "       [<AxesSubplot: title={'center': 'original'}>, <AxesSubplot: >,\n",
       "        <AxesSubplot: >]], dtype=object)"
      ]
     },
     "execution_count": 19,
     "metadata": {},
     "output_type": "execute_result"
    },
    {
     "data": {
      "image/png": "[encoded data removed]",
      "text/plain": [
       "<Figure size 640x480 with 9 Axes>"
      ]
     },
     "metadata": {},
     "output_type": "display_data"
    }
   ],
   "source": [
    "df_q_new.hist(column = [\"credibility\"], by=\"model\")"
   ]
  },
  {
   "cell_type": "code",
   "execution_count": 20,
   "metadata": {},
   "outputs": [
    {
     "data": {
      "text/plain": [
       "array([[<AxesSubplot: title={'center': 'ChatGPT'}>,\n",
       "        <AxesSubplot: title={'center': 'bloom-7b1'}>,\n",
       "        <AxesSubplot: title={'center': 'gpt-j-6B'}>],\n",
       "       [<AxesSubplot: title={'center': 'opt-13b'}>,\n",
       "        <AxesSubplot: title={'center': 'opt-30b'}>,\n",
       "        <AxesSubplot: title={'center': 'opt-6.7b'}>],\n",
       "       [<AxesSubplot: title={'center': 'original'}>, <AxesSubplot: >,\n",
       "        <AxesSubplot: >]], dtype=object)"
      ]
     },
     "execution_count": 20,
     "metadata": {},
     "output_type": "execute_result"
    },
    {
     "data": {
      "image/png": "[encoded data removed]",
      "text/plain": [
       "<Figure size 640x480 with 9 Axes>"
      ]
     },
     "metadata": {},
     "output_type": "display_data"
    }
   ],
   "source": [
    "df_q_new.hist(column = [\"persuasion\"], by=\"model\")"
   ]
  },
  {
   "attachments": {},
   "cell_type": "markdown",
   "metadata": {},
   "source": [
    "# Change type original to human"
   ]
  },
  {
   "cell_type": "code",
   "execution_count": 21,
   "metadata": {},
   "outputs": [
    {
     "data": {
      "text/html": [
       "<div>\n",
       "<style scoped>\n",
       "    .dataframe tbody tr th:only-of-type {\n",
       "        vertical-align: middle;\n",
       "    }\n",
       "\n",
       "    .dataframe tbody tr th {\n",
       "        vertical-align: top;\n",
       "    }\n",
       "\n",
       "    .dataframe thead th {\n",
       "        text-align: right;\n",
       "    }\n",
       "</style>\n",
       "<table border=\"1\" class=\"dataframe\">\n",
       "  <thead>\n",
       "    <tr style=\"text-align: right;\">\n",
       "      <th></th>\n",
       "      <th>Questionnaire</th>\n",
       "      <th>Message</th>\n",
       "      <th>model</th>\n",
       "      <th>question</th>\n",
       "      <th>style</th>\n",
       "      <th>accuracy</th>\n",
       "      <th>credibility</th>\n",
       "      <th>persuasion</th>\n",
       "      <th>revision_option</th>\n",
       "      <th>revision</th>\n",
       "      <th>timing_First Click</th>\n",
       "      <th>timing_Last Click</th>\n",
       "      <th>timing_Page Submit</th>\n",
       "      <th>timing_Click Count</th>\n",
       "    </tr>\n",
       "  </thead>\n",
       "  <tbody>\n",
       "    <tr>\n",
       "      <th>0</th>\n",
       "      <td>1</td>\n",
       "      <td>It is important to recognize the benefits that...</td>\n",
       "      <td>opt-30b</td>\n",
       "      <td>1</td>\n",
       "      <td>3</td>\n",
       "      <td>5</td>\n",
       "      <td>2</td>\n",
       "      <td>2</td>\n",
       "      <td>Yes, it needs further revision. Please revise ...</td>\n",
       "      <td>If you feel the urge to smoke, remind yourself...</td>\n",
       "      <td>6.741</td>\n",
       "      <td>9.117</td>\n",
       "      <td>56.103</td>\n",
       "      <td>2</td>\n",
       "    </tr>\n",
       "    <tr>\n",
       "      <th>1</th>\n",
       "      <td>1</td>\n",
       "      <td>You have the power to live your life without c...</td>\n",
       "      <td>gpt-j-6B</td>\n",
       "      <td>2</td>\n",
       "      <td>4</td>\n",
       "      <td>5</td>\n",
       "      <td>3</td>\n",
       "      <td>2</td>\n",
       "      <td>Yes, it needs further revision. Please revise ...</td>\n",
       "      <td>Your mind is powerful and adaptable! Old habit...</td>\n",
       "      <td>3.335</td>\n",
       "      <td>5.855</td>\n",
       "      <td>48.074</td>\n",
       "      <td>2</td>\n",
       "    </tr>\n",
       "    <tr>\n",
       "      <th>2</th>\n",
       "      <td>1</td>\n",
       "      <td>Even if you have other health problems, such a...</td>\n",
       "      <td>original</td>\n",
       "      <td>3</td>\n",
       "      <td>6</td>\n",
       "      <td>6</td>\n",
       "      <td>6</td>\n",
       "      <td>4</td>\n",
       "      <td>No need to revise, it meets TTS standards already</td>\n",
       "      <td>NaN</td>\n",
       "      <td>4.448</td>\n",
       "      <td>4.448</td>\n",
       "      <td>5.733</td>\n",
       "      <td>1</td>\n",
       "    </tr>\n",
       "    <tr>\n",
       "      <th>3</th>\n",
       "      <td>1</td>\n",
       "      <td>Setting small achievable goals can help boost ...</td>\n",
       "      <td>ChatGPT</td>\n",
       "      <td>4</td>\n",
       "      <td>5</td>\n",
       "      <td>4</td>\n",
       "      <td>3</td>\n",
       "      <td>3</td>\n",
       "      <td>No need to revise, it meets TTS standards already</td>\n",
       "      <td>NaN</td>\n",
       "      <td>8.125</td>\n",
       "      <td>8.125</td>\n",
       "      <td>9.177</td>\n",
       "      <td>1</td>\n",
       "    </tr>\n",
       "    <tr>\n",
       "      <th>4</th>\n",
       "      <td>1</td>\n",
       "      <td>Think about the time you spent on smoking and ...</td>\n",
       "      <td>gpt-j-6B</td>\n",
       "      <td>5</td>\n",
       "      <td>6</td>\n",
       "      <td>6</td>\n",
       "      <td>5</td>\n",
       "      <td>4</td>\n",
       "      <td>Yes, it needs further revision. Please revise ...</td>\n",
       "      <td>Keep in mind that while you are quitting smoki...</td>\n",
       "      <td>4.818</td>\n",
       "      <td>37.450</td>\n",
       "      <td>38.300</td>\n",
       "      <td>8</td>\n",
       "    </tr>\n",
       "  </tbody>\n",
       "</table>\n",
       "</div>"
      ],
      "text/plain": [
       "   Questionnaire                                            Message     model  \\\n",
       "0              1  It is important to recognize the benefits that...   opt-30b   \n",
       "1              1  You have the power to live your life without c...  gpt-j-6B   \n",
       "2              1  Even if you have other health problems, such a...  original   \n",
       "3              1  Setting small achievable goals can help boost ...   ChatGPT   \n",
       "4              1  Think about the time you spent on smoking and ...  gpt-j-6B   \n",
       "\n",
       "   question  style  accuracy  credibility  persuasion  \\\n",
       "0         1      3         5            2           2   \n",
       "1         2      4         5            3           2   \n",
       "2         3      6         6            6           4   \n",
       "3         4      5         4            3           3   \n",
       "4         5      6         6            5           4   \n",
       "\n",
       "                                     revision_option  \\\n",
       "0  Yes, it needs further revision. Please revise ...   \n",
       "1  Yes, it needs further revision. Please revise ...   \n",
       "2  No need to revise, it meets TTS standards already   \n",
       "3  No need to revise, it meets TTS standards already   \n",
       "4  Yes, it needs further revision. Please revise ...   \n",
       "\n",
       "                                            revision  timing_First Click  \\\n",
       "0  If you feel the urge to smoke, remind yourself...               6.741   \n",
       "1  Your mind is powerful and adaptable! Old habit...               3.335   \n",
       "2                                                NaN               4.448   \n",
       "3                                                NaN               8.125   \n",
       "4  Keep in mind that while you are quitting smoki...               4.818   \n",
       "\n",
       "   timing_Last Click  timing_Page Submit  timing_Click Count  \n",
       "0              9.117              56.103                   2  \n",
       "1              5.855              48.074                   2  \n",
       "2              4.448               5.733                   1  \n",
       "3              8.125               9.177                   1  \n",
       "4             37.450              38.300                   8  "
      ]
     },
     "execution_count": 21,
     "metadata": {},
     "output_type": "execute_result"
    }
   ],
   "source": [
    "df_q_new.head()"
   ]
  },
  {
   "cell_type": "code",
   "execution_count": 22,
   "metadata": {},
   "outputs": [
    {
     "data": {
      "text/plain": [
       "array(['opt-30b', 'gpt-j-6B', 'original', 'ChatGPT', 'opt-6.7b',\n",
       "       'opt-13b', 'bloom-7b1'], dtype=object)"
      ]
     },
     "execution_count": 22,
     "metadata": {},
     "output_type": "execute_result"
    }
   ],
   "source": [
    "df_q_new[\"model\"].unique()"
   ]
  },
  {
   "cell_type": "code",
   "execution_count": 23,
   "metadata": {},
   "outputs": [
    {
     "data": {
      "text/plain": [
       "array(['opt-30b', 'gpt-j-6B', 'human', 'ChatGPT', 'opt-6.7b', 'opt-13b',\n",
       "       'bloom-7b1'], dtype=object)"
      ]
     },
     "execution_count": 23,
     "metadata": {},
     "output_type": "execute_result"
    }
   ],
   "source": [
    "df_q_new = df_q_new.replace({\"model\":\"original\"}, \"human\")\n",
    "df_q_new[\"model\"].unique()"
   ]
  },
  {
   "attachments": {},
   "cell_type": "markdown",
   "metadata": {},
   "source": [
    "# Adding columns"
   ]
  },
  {
   "cell_type": "code",
   "execution_count": 24,
   "metadata": {},
   "outputs": [
    {
     "data": {
      "text/plain": [
       "array([ 1,  2,  3,  4,  5,  6,  7,  8,  9, 10, 11, 12, 13, 14])"
      ]
     },
     "execution_count": 24,
     "metadata": {},
     "output_type": "execute_result"
    }
   ],
   "source": [
    "df_q_new[\"Questionnaire\"].unique()"
   ]
  },
  {
   "attachments": {},
   "cell_type": "markdown",
   "metadata": {},
   "source": [
    "The questionnaire where assigned 2 per rater in the following way.\n",
    "\n",
    "Q1 and Q8 => Rater 1\n",
    "Q2 and Q9 => Rater 2\n",
    "and so on\n"
   ]
  },
  {
   "cell_type": "code",
   "execution_count": 25,
   "metadata": {},
   "outputs": [],
   "source": [
    "def get_rater(questionnaire):\n",
    "    rater = (questionnaire - 1)%7 + 1\n",
    "    return rater"
   ]
  },
  {
   "cell_type": "code",
   "execution_count": 26,
   "metadata": {},
   "outputs": [
    {
     "data": {
      "text/plain": [
       "7"
      ]
     },
     "execution_count": 26,
     "metadata": {},
     "output_type": "execute_result"
    }
   ],
   "source": [
    "get_rater(14)"
   ]
  },
  {
   "cell_type": "code",
   "execution_count": 27,
   "metadata": {},
   "outputs": [],
   "source": [
    "df_q_new.insert(1, 'rater', df_q_new[\"Questionnaire\"].apply(get_rater))"
   ]
  },
  {
   "cell_type": "code",
   "execution_count": 28,
   "metadata": {},
   "outputs": [
    {
     "data": {
      "text/html": [
       "<div>\n",
       "<style scoped>\n",
       "    .dataframe tbody tr th:only-of-type {\n",
       "        vertical-align: middle;\n",
       "    }\n",
       "\n",
       "    .dataframe tbody tr th {\n",
       "        vertical-align: top;\n",
       "    }\n",
       "\n",
       "    .dataframe thead th {\n",
       "        text-align: right;\n",
       "    }\n",
       "</style>\n",
       "<table border=\"1\" class=\"dataframe\">\n",
       "  <thead>\n",
       "    <tr style=\"text-align: right;\">\n",
       "      <th></th>\n",
       "      <th>Questionnaire</th>\n",
       "      <th>rater</th>\n",
       "      <th>Message</th>\n",
       "      <th>model</th>\n",
       "      <th>question</th>\n",
       "      <th>style</th>\n",
       "      <th>accuracy</th>\n",
       "      <th>credibility</th>\n",
       "      <th>persuasion</th>\n",
       "      <th>revision_option</th>\n",
       "      <th>revision</th>\n",
       "      <th>timing_First Click</th>\n",
       "      <th>timing_Last Click</th>\n",
       "      <th>timing_Page Submit</th>\n",
       "      <th>timing_Click Count</th>\n",
       "    </tr>\n",
       "  </thead>\n",
       "  <tbody>\n",
       "    <tr>\n",
       "      <th>695</th>\n",
       "      <td>14</td>\n",
       "      <td>7</td>\n",
       "      <td>Quitting smoking can be hard. You may feel tir...</td>\n",
       "      <td>opt-30b</td>\n",
       "      <td>46</td>\n",
       "      <td>8</td>\n",
       "      <td>8</td>\n",
       "      <td>8</td>\n",
       "      <td>8</td>\n",
       "      <td>No need to revise, it meets TTS standards already</td>\n",
       "      <td>NaN</td>\n",
       "      <td>0.948</td>\n",
       "      <td>0.948</td>\n",
       "      <td>2.283</td>\n",
       "      <td>1</td>\n",
       "    </tr>\n",
       "    <tr>\n",
       "      <th>696</th>\n",
       "      <td>14</td>\n",
       "      <td>7</td>\n",
       "      <td>Quitting smoking is a tremendous challenge. Be...</td>\n",
       "      <td>human</td>\n",
       "      <td>47</td>\n",
       "      <td>10</td>\n",
       "      <td>9</td>\n",
       "      <td>9</td>\n",
       "      <td>8</td>\n",
       "      <td>No need to revise, it meets TTS standards already</td>\n",
       "      <td>NaN</td>\n",
       "      <td>0.913</td>\n",
       "      <td>2.350</td>\n",
       "      <td>2.945</td>\n",
       "      <td>2</td>\n",
       "    </tr>\n",
       "    <tr>\n",
       "      <th>697</th>\n",
       "      <td>14</td>\n",
       "      <td>7</td>\n",
       "      <td>Your skin will start to clear up.</td>\n",
       "      <td>opt-6.7b</td>\n",
       "      <td>48</td>\n",
       "      <td>7</td>\n",
       "      <td>7</td>\n",
       "      <td>6</td>\n",
       "      <td>7</td>\n",
       "      <td>No need to revise, it meets TTS standards already</td>\n",
       "      <td>NaN</td>\n",
       "      <td>3.623</td>\n",
       "      <td>4.256</td>\n",
       "      <td>6.198</td>\n",
       "      <td>2</td>\n",
       "    </tr>\n",
       "    <tr>\n",
       "      <th>698</th>\n",
       "      <td>14</td>\n",
       "      <td>7</td>\n",
       "      <td>Don’t let the past be your future.</td>\n",
       "      <td>opt-6.7b</td>\n",
       "      <td>49</td>\n",
       "      <td>7</td>\n",
       "      <td>5</td>\n",
       "      <td>7</td>\n",
       "      <td>5</td>\n",
       "      <td>Yes, it needs further revision. Please revise ...</td>\n",
       "      <td>If you are planning to smoke, remind yourself ...</td>\n",
       "      <td>2.135</td>\n",
       "      <td>7.802</td>\n",
       "      <td>64.571</td>\n",
       "      <td>5</td>\n",
       "    </tr>\n",
       "    <tr>\n",
       "      <th>699</th>\n",
       "      <td>14</td>\n",
       "      <td>7</td>\n",
       "      <td>If you are using a nicotine gum, you can stop ...</td>\n",
       "      <td>bloom-7b1</td>\n",
       "      <td>50</td>\n",
       "      <td>7</td>\n",
       "      <td>7</td>\n",
       "      <td>8</td>\n",
       "      <td>5</td>\n",
       "      <td>Yes, it needs further revision. Please revise ...</td>\n",
       "      <td>Quitting smoking can be hard. You may feel tir...</td>\n",
       "      <td>1.304</td>\n",
       "      <td>50.842</td>\n",
       "      <td>54.739</td>\n",
       "      <td>8</td>\n",
       "    </tr>\n",
       "  </tbody>\n",
       "</table>\n",
       "</div>"
      ],
      "text/plain": [
       "     Questionnaire  rater                                            Message  \\\n",
       "695             14      7  Quitting smoking can be hard. You may feel tir...   \n",
       "696             14      7  Quitting smoking is a tremendous challenge. Be...   \n",
       "697             14      7                  Your skin will start to clear up.   \n",
       "698             14      7                 Don’t let the past be your future.   \n",
       "699             14      7  If you are using a nicotine gum, you can stop ...   \n",
       "\n",
       "         model  question  style  accuracy  credibility  persuasion  \\\n",
       "695    opt-30b        46      8         8            8           8   \n",
       "696      human        47     10         9            9           8   \n",
       "697   opt-6.7b        48      7         7            6           7   \n",
       "698   opt-6.7b        49      7         5            7           5   \n",
       "699  bloom-7b1        50      7         7            8           5   \n",
       "\n",
       "                                       revision_option  \\\n",
       "695  No need to revise, it meets TTS standards already   \n",
       "696  No need to revise, it meets TTS standards already   \n",
       "697  No need to revise, it meets TTS standards already   \n",
       "698  Yes, it needs further revision. Please revise ...   \n",
       "699  Yes, it needs further revision. Please revise ...   \n",
       "\n",
       "                                              revision  timing_First Click  \\\n",
       "695                                                NaN               0.948   \n",
       "696                                                NaN               0.913   \n",
       "697                                                NaN               3.623   \n",
       "698  If you are planning to smoke, remind yourself ...               2.135   \n",
       "699  Quitting smoking can be hard. You may feel tir...               1.304   \n",
       "\n",
       "     timing_Last Click  timing_Page Submit  timing_Click Count  \n",
       "695              0.948               2.283                   1  \n",
       "696              2.350               2.945                   2  \n",
       "697              4.256               6.198                   2  \n",
       "698              7.802              64.571                   5  \n",
       "699             50.842              54.739                   8  "
      ]
     },
     "execution_count": 28,
     "metadata": {},
     "output_type": "execute_result"
    }
   ],
   "source": [
    "df_q_new.tail()"
   ]
  },
  {
   "cell_type": "code",
   "execution_count": 29,
   "metadata": {},
   "outputs": [],
   "source": [
    "df_q_new.to_csv(\"/home/pcallec/smoking_cessation_messages/results/processed_qualtrics/joined_processed_qualtrics.csv\")"
   ]
  }
 ],
 "metadata": {
  "kernelspec": {
   "display_name": "tf-gpu",
   "language": "python",
   "name": "python3"
  },
  "language_info": {
   "codemirror_mode": {
    "name": "ipython",
    "version": 3
   },
   "file_extension": ".py",
   "mimetype": "text/x-python",
   "name": "python",
   "nbconvert_exporter": "python",
   "pygments_lexer": "ipython3",
   "version": "3.8.15"
  },
  "orig_nbformat": 4
 },
 "nbformat": 4,
 "nbformat_minor": 2
}
